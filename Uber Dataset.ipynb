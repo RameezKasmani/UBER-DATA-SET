{
 "cells": [
  {
   "cell_type": "code",
   "execution_count": 1,
   "metadata": {
    "executionInfo": {
     "elapsed": 668,
     "status": "ok",
     "timestamp": 1660314972332,
     "user": {
      "displayName": "Rameez Kasmani",
      "userId": "16224857449159942934"
     },
     "user_tz": -330
    },
    "id": "_Oh_jhaDyG1Y"
   },
   "outputs": [],
   "source": [
    "import numpy as numpy\n",
    "import pandas as pd\n",
    "import matplotlib.pyplot as plt\n",
    "import seaborn as sns\n",
    "import warnings\n",
    "warnings.filterwarnings('ignore')"
   ]
  },
  {
   "cell_type": "code",
   "execution_count": 2,
   "metadata": {
    "executionInfo": {
     "elapsed": 35,
     "status": "ok",
     "timestamp": 1660314976207,
     "user": {
      "displayName": "Rameez Kasmani",
      "userId": "16224857449159942934"
     },
     "user_tz": -330
    },
    "id": "CkDif8Yaz2W1"
   },
   "outputs": [],
   "source": [
    "#Importing the data \n",
    "\n",
    "df=pd.read_csv(\"Uber Request Data.csv\")"
   ]
  },
  {
   "cell_type": "code",
   "execution_count": 3,
   "metadata": {
    "colab": {
     "base_uri": "https://localhost:8080/",
     "height": 206
    },
    "executionInfo": {
     "elapsed": 35,
     "status": "ok",
     "timestamp": 1660314976209,
     "user": {
      "displayName": "Rameez Kasmani",
      "userId": "16224857449159942934"
     },
     "user_tz": -330
    },
    "id": "tA4x04ms1xbz",
    "outputId": "639b8c14-01de-4a98-adc2-8b9147b7ece7"
   },
   "outputs": [
    {
     "data": {
      "text/html": [
       "<div>\n",
       "<style scoped>\n",
       "    .dataframe tbody tr th:only-of-type {\n",
       "        vertical-align: middle;\n",
       "    }\n",
       "\n",
       "    .dataframe tbody tr th {\n",
       "        vertical-align: top;\n",
       "    }\n",
       "\n",
       "    .dataframe thead th {\n",
       "        text-align: right;\n",
       "    }\n",
       "</style>\n",
       "<table border=\"1\" class=\"dataframe\">\n",
       "  <thead>\n",
       "    <tr style=\"text-align: right;\">\n",
       "      <th></th>\n",
       "      <th>Request id</th>\n",
       "      <th>Pickup point</th>\n",
       "      <th>Driver id</th>\n",
       "      <th>Status</th>\n",
       "      <th>Request timestamp</th>\n",
       "      <th>Drop timestamp</th>\n",
       "    </tr>\n",
       "  </thead>\n",
       "  <tbody>\n",
       "    <tr>\n",
       "      <th>0</th>\n",
       "      <td>619</td>\n",
       "      <td>Airport</td>\n",
       "      <td>1.0</td>\n",
       "      <td>Trip Completed</td>\n",
       "      <td>11/7/2016 11:51</td>\n",
       "      <td>11/7/2016 13:00</td>\n",
       "    </tr>\n",
       "    <tr>\n",
       "      <th>1</th>\n",
       "      <td>867</td>\n",
       "      <td>Airport</td>\n",
       "      <td>1.0</td>\n",
       "      <td>Trip Completed</td>\n",
       "      <td>11/7/2016 17:57</td>\n",
       "      <td>11/7/2016 18:47</td>\n",
       "    </tr>\n",
       "    <tr>\n",
       "      <th>2</th>\n",
       "      <td>1807</td>\n",
       "      <td>City</td>\n",
       "      <td>1.0</td>\n",
       "      <td>Trip Completed</td>\n",
       "      <td>12/7/2016 9:17</td>\n",
       "      <td>12/7/2016 9:58</td>\n",
       "    </tr>\n",
       "    <tr>\n",
       "      <th>3</th>\n",
       "      <td>2532</td>\n",
       "      <td>Airport</td>\n",
       "      <td>1.0</td>\n",
       "      <td>Trip Completed</td>\n",
       "      <td>12/7/2016 21:08</td>\n",
       "      <td>12/7/2016 22:03</td>\n",
       "    </tr>\n",
       "    <tr>\n",
       "      <th>4</th>\n",
       "      <td>3112</td>\n",
       "      <td>City</td>\n",
       "      <td>1.0</td>\n",
       "      <td>Trip Completed</td>\n",
       "      <td>13-07-2016 08:33:16</td>\n",
       "      <td>13-07-2016 09:25:47</td>\n",
       "    </tr>\n",
       "  </tbody>\n",
       "</table>\n",
       "</div>"
      ],
      "text/plain": [
       "   Request id Pickup point  Driver id          Status    Request timestamp  \\\n",
       "0         619      Airport        1.0  Trip Completed      11/7/2016 11:51   \n",
       "1         867      Airport        1.0  Trip Completed      11/7/2016 17:57   \n",
       "2        1807         City        1.0  Trip Completed       12/7/2016 9:17   \n",
       "3        2532      Airport        1.0  Trip Completed      12/7/2016 21:08   \n",
       "4        3112         City        1.0  Trip Completed  13-07-2016 08:33:16   \n",
       "\n",
       "        Drop timestamp  \n",
       "0      11/7/2016 13:00  \n",
       "1      11/7/2016 18:47  \n",
       "2       12/7/2016 9:58  \n",
       "3      12/7/2016 22:03  \n",
       "4  13-07-2016 09:25:47  "
      ]
     },
     "execution_count": 3,
     "metadata": {},
     "output_type": "execute_result"
    }
   ],
   "source": [
    "df.head()"
   ]
  },
  {
   "cell_type": "code",
   "execution_count": 4,
   "metadata": {
    "colab": {
     "base_uri": "https://localhost:8080/"
    },
    "executionInfo": {
     "elapsed": 30,
     "status": "ok",
     "timestamp": 1660314976210,
     "user": {
      "displayName": "Rameez Kasmani",
      "userId": "16224857449159942934"
     },
     "user_tz": -330
    },
    "id": "5rvKUfQX1yfB",
    "outputId": "5657156d-8b8a-411a-a5a1-9b0306a45511"
   },
   "outputs": [
    {
     "data": {
      "text/plain": [
       "Index(['Request id', 'Pickup point', 'Driver id', 'Status',\n",
       "       'Request timestamp', 'Drop timestamp'],\n",
       "      dtype='object')"
      ]
     },
     "execution_count": 4,
     "metadata": {},
     "output_type": "execute_result"
    }
   ],
   "source": [
    "df.columns"
   ]
  },
  {
   "cell_type": "code",
   "execution_count": 5,
   "metadata": {
    "colab": {
     "base_uri": "https://localhost:8080/"
    },
    "executionInfo": {
     "elapsed": 25,
     "status": "ok",
     "timestamp": 1660314976212,
     "user": {
      "displayName": "Rameez Kasmani",
      "userId": "16224857449159942934"
     },
     "user_tz": -330
    },
    "id": "c18GQ7W82uGB",
    "outputId": "38b4279e-bc95-4c5d-915c-49bc1bc9ffbf"
   },
   "outputs": [
    {
     "data": {
      "text/plain": [
       "Request id             int64\n",
       "Pickup point          object\n",
       "Driver id            float64\n",
       "Status                object\n",
       "Request timestamp     object\n",
       "Drop timestamp        object\n",
       "dtype: object"
      ]
     },
     "execution_count": 5,
     "metadata": {},
     "output_type": "execute_result"
    }
   ],
   "source": [
    "# Checking the datatype\n",
    "df.dtypes"
   ]
  },
  {
   "cell_type": "code",
   "execution_count": 6,
   "metadata": {
    "executionInfo": {
     "elapsed": 974,
     "status": "ok",
     "timestamp": 1660314977167,
     "user": {
      "displayName": "Rameez Kasmani",
      "userId": "16224857449159942934"
     },
     "user_tz": -330
    },
    "id": "Zv3rTWqH3NUk"
   },
   "outputs": [],
   "source": [
    "# Now converting the timestamp datatype into datetime\n",
    "\n",
    "df[\"Request timestamp\"]=pd.to_datetime(df[\"Request timestamp\"])"
   ]
  },
  {
   "cell_type": "code",
   "execution_count": 7,
   "metadata": {
    "executionInfo": {
     "elapsed": 531,
     "status": "ok",
     "timestamp": 1660314977693,
     "user": {
      "displayName": "Rameez Kasmani",
      "userId": "16224857449159942934"
     },
     "user_tz": -330
    },
    "id": "xLcUeTBj4sQl"
   },
   "outputs": [],
   "source": [
    "df[\"Drop timestamp\"]=pd.to_datetime(df[\"Drop timestamp\"])"
   ]
  },
  {
   "cell_type": "code",
   "execution_count": 8,
   "metadata": {
    "colab": {
     "base_uri": "https://localhost:8080/"
    },
    "executionInfo": {
     "elapsed": 37,
     "status": "ok",
     "timestamp": 1660314977695,
     "user": {
      "displayName": "Rameez Kasmani",
      "userId": "16224857449159942934"
     },
     "user_tz": -330
    },
    "id": "QmS1ZYNo6ND5",
    "outputId": "137e3d4e-acb6-4ddd-b3d9-28d553d0afc1"
   },
   "outputs": [
    {
     "data": {
      "text/plain": [
       "Request id                    int64\n",
       "Pickup point                 object\n",
       "Driver id                   float64\n",
       "Status                       object\n",
       "Request timestamp    datetime64[ns]\n",
       "Drop timestamp       datetime64[ns]\n",
       "dtype: object"
      ]
     },
     "execution_count": 8,
     "metadata": {},
     "output_type": "execute_result"
    }
   ],
   "source": [
    "# Againg checking the datatypes\n",
    "\n",
    "df.dtypes"
   ]
  },
  {
   "cell_type": "code",
   "execution_count": 9,
   "metadata": {
    "executionInfo": {
     "elapsed": 35,
     "status": "ok",
     "timestamp": 1660314977697,
     "user": {
      "displayName": "Rameez Kasmani",
      "userId": "16224857449159942934"
     },
     "user_tz": -330
    },
    "id": "mEIMTIg36Sqx"
   },
   "outputs": [],
   "source": [
    "# Now converting the timestamp into hours\n",
    "\n",
    "df[\"Request Hours\"]=df[\"Request timestamp\"].dt.hour"
   ]
  },
  {
   "cell_type": "code",
   "execution_count": 10,
   "metadata": {
    "executionInfo": {
     "elapsed": 36,
     "status": "ok",
     "timestamp": 1660314977699,
     "user": {
      "displayName": "Rameez Kasmani",
      "userId": "16224857449159942934"
     },
     "user_tz": -330
    },
    "id": "VZ4k-OVj6sU7"
   },
   "outputs": [],
   "source": [
    "df[\"Drop Hours\"]=df[\"Drop timestamp\"].dt.hour"
   ]
  },
  {
   "cell_type": "code",
   "execution_count": 11,
   "metadata": {
    "colab": {
     "base_uri": "https://localhost:8080/",
     "height": 206
    },
    "executionInfo": {
     "elapsed": 36,
     "status": "ok",
     "timestamp": 1660314977700,
     "user": {
      "displayName": "Rameez Kasmani",
      "userId": "16224857449159942934"
     },
     "user_tz": -330
    },
    "id": "LcdDGyVq6yrX",
    "outputId": "8d6adc29-8e55-4e85-f2b1-eff8795ad253"
   },
   "outputs": [
    {
     "data": {
      "text/html": [
       "<div>\n",
       "<style scoped>\n",
       "    .dataframe tbody tr th:only-of-type {\n",
       "        vertical-align: middle;\n",
       "    }\n",
       "\n",
       "    .dataframe tbody tr th {\n",
       "        vertical-align: top;\n",
       "    }\n",
       "\n",
       "    .dataframe thead th {\n",
       "        text-align: right;\n",
       "    }\n",
       "</style>\n",
       "<table border=\"1\" class=\"dataframe\">\n",
       "  <thead>\n",
       "    <tr style=\"text-align: right;\">\n",
       "      <th></th>\n",
       "      <th>Request id</th>\n",
       "      <th>Pickup point</th>\n",
       "      <th>Driver id</th>\n",
       "      <th>Status</th>\n",
       "      <th>Request timestamp</th>\n",
       "      <th>Drop timestamp</th>\n",
       "      <th>Request Hours</th>\n",
       "      <th>Drop Hours</th>\n",
       "    </tr>\n",
       "  </thead>\n",
       "  <tbody>\n",
       "    <tr>\n",
       "      <th>0</th>\n",
       "      <td>619</td>\n",
       "      <td>Airport</td>\n",
       "      <td>1.0</td>\n",
       "      <td>Trip Completed</td>\n",
       "      <td>2016-11-07 11:51:00</td>\n",
       "      <td>2016-11-07 13:00:00</td>\n",
       "      <td>11</td>\n",
       "      <td>13.0</td>\n",
       "    </tr>\n",
       "    <tr>\n",
       "      <th>1</th>\n",
       "      <td>867</td>\n",
       "      <td>Airport</td>\n",
       "      <td>1.0</td>\n",
       "      <td>Trip Completed</td>\n",
       "      <td>2016-11-07 17:57:00</td>\n",
       "      <td>2016-11-07 18:47:00</td>\n",
       "      <td>17</td>\n",
       "      <td>18.0</td>\n",
       "    </tr>\n",
       "    <tr>\n",
       "      <th>2</th>\n",
       "      <td>1807</td>\n",
       "      <td>City</td>\n",
       "      <td>1.0</td>\n",
       "      <td>Trip Completed</td>\n",
       "      <td>2016-12-07 09:17:00</td>\n",
       "      <td>2016-12-07 09:58:00</td>\n",
       "      <td>9</td>\n",
       "      <td>9.0</td>\n",
       "    </tr>\n",
       "    <tr>\n",
       "      <th>3</th>\n",
       "      <td>2532</td>\n",
       "      <td>Airport</td>\n",
       "      <td>1.0</td>\n",
       "      <td>Trip Completed</td>\n",
       "      <td>2016-12-07 21:08:00</td>\n",
       "      <td>2016-12-07 22:03:00</td>\n",
       "      <td>21</td>\n",
       "      <td>22.0</td>\n",
       "    </tr>\n",
       "    <tr>\n",
       "      <th>4</th>\n",
       "      <td>3112</td>\n",
       "      <td>City</td>\n",
       "      <td>1.0</td>\n",
       "      <td>Trip Completed</td>\n",
       "      <td>2016-07-13 08:33:16</td>\n",
       "      <td>2016-07-13 09:25:47</td>\n",
       "      <td>8</td>\n",
       "      <td>9.0</td>\n",
       "    </tr>\n",
       "  </tbody>\n",
       "</table>\n",
       "</div>"
      ],
      "text/plain": [
       "   Request id Pickup point  Driver id          Status   Request timestamp  \\\n",
       "0         619      Airport        1.0  Trip Completed 2016-11-07 11:51:00   \n",
       "1         867      Airport        1.0  Trip Completed 2016-11-07 17:57:00   \n",
       "2        1807         City        1.0  Trip Completed 2016-12-07 09:17:00   \n",
       "3        2532      Airport        1.0  Trip Completed 2016-12-07 21:08:00   \n",
       "4        3112         City        1.0  Trip Completed 2016-07-13 08:33:16   \n",
       "\n",
       "       Drop timestamp  Request Hours  Drop Hours  \n",
       "0 2016-11-07 13:00:00             11        13.0  \n",
       "1 2016-11-07 18:47:00             17        18.0  \n",
       "2 2016-12-07 09:58:00              9         9.0  \n",
       "3 2016-12-07 22:03:00             21        22.0  \n",
       "4 2016-07-13 09:25:47              8         9.0  "
      ]
     },
     "execution_count": 11,
     "metadata": {},
     "output_type": "execute_result"
    }
   ],
   "source": [
    "# Now checking the table again\n",
    "\n",
    "df.head()"
   ]
  },
  {
   "cell_type": "code",
   "execution_count": 12,
   "metadata": {
    "colab": {
     "base_uri": "https://localhost:8080/"
    },
    "executionInfo": {
     "elapsed": 33,
     "status": "ok",
     "timestamp": 1660314977701,
     "user": {
      "displayName": "Rameez Kasmani",
      "userId": "16224857449159942934"
     },
     "user_tz": -330
    },
    "id": "SK4_xPY_Ulhq",
    "outputId": "e300ba61-5355-4ec5-cb08-172522ffc198"
   },
   "outputs": [
    {
     "data": {
      "text/plain": [
       "Request id                    int64\n",
       "Pickup point                 object\n",
       "Driver id                   float64\n",
       "Status                       object\n",
       "Request timestamp    datetime64[ns]\n",
       "Drop timestamp       datetime64[ns]\n",
       "Request Hours                 int64\n",
       "Drop Hours                  float64\n",
       "dtype: object"
      ]
     },
     "execution_count": 12,
     "metadata": {},
     "output_type": "execute_result"
    }
   ],
   "source": [
    "df.dtypes"
   ]
  },
  {
   "cell_type": "code",
   "execution_count": 13,
   "metadata": {
    "executionInfo": {
     "elapsed": 29,
     "status": "ok",
     "timestamp": 1660314977703,
     "user": {
      "displayName": "Rameez Kasmani",
      "userId": "16224857449159942934"
     },
     "user_tz": -330
    },
    "id": "ce5soVYf64qC"
   },
   "outputs": [],
   "source": [
    "# Now droping the Request timestamp and Drop timestamp\n",
    "\n",
    "df.drop([\"Request timestamp\", \"Drop timestamp\"] , axis=1 , inplace=True)"
   ]
  },
  {
   "cell_type": "code",
   "execution_count": 14,
   "metadata": {
    "colab": {
     "base_uri": "https://localhost:8080/",
     "height": 363
    },
    "executionInfo": {
     "elapsed": 29,
     "status": "ok",
     "timestamp": 1660314977705,
     "user": {
      "displayName": "Rameez Kasmani",
      "userId": "16224857449159942934"
     },
     "user_tz": -330
    },
    "id": "9H0qv6N07Xc7",
    "outputId": "4d66359a-e17f-4119-e68c-6743f4ffe36d"
   },
   "outputs": [
    {
     "data": {
      "text/html": [
       "<div>\n",
       "<style scoped>\n",
       "    .dataframe tbody tr th:only-of-type {\n",
       "        vertical-align: middle;\n",
       "    }\n",
       "\n",
       "    .dataframe tbody tr th {\n",
       "        vertical-align: top;\n",
       "    }\n",
       "\n",
       "    .dataframe thead th {\n",
       "        text-align: right;\n",
       "    }\n",
       "</style>\n",
       "<table border=\"1\" class=\"dataframe\">\n",
       "  <thead>\n",
       "    <tr style=\"text-align: right;\">\n",
       "      <th></th>\n",
       "      <th>Request id</th>\n",
       "      <th>Pickup point</th>\n",
       "      <th>Driver id</th>\n",
       "      <th>Status</th>\n",
       "      <th>Request Hours</th>\n",
       "      <th>Drop Hours</th>\n",
       "    </tr>\n",
       "  </thead>\n",
       "  <tbody>\n",
       "    <tr>\n",
       "      <th>0</th>\n",
       "      <td>619</td>\n",
       "      <td>Airport</td>\n",
       "      <td>1.0</td>\n",
       "      <td>Trip Completed</td>\n",
       "      <td>11</td>\n",
       "      <td>13.0</td>\n",
       "    </tr>\n",
       "    <tr>\n",
       "      <th>1</th>\n",
       "      <td>867</td>\n",
       "      <td>Airport</td>\n",
       "      <td>1.0</td>\n",
       "      <td>Trip Completed</td>\n",
       "      <td>17</td>\n",
       "      <td>18.0</td>\n",
       "    </tr>\n",
       "    <tr>\n",
       "      <th>2</th>\n",
       "      <td>1807</td>\n",
       "      <td>City</td>\n",
       "      <td>1.0</td>\n",
       "      <td>Trip Completed</td>\n",
       "      <td>9</td>\n",
       "      <td>9.0</td>\n",
       "    </tr>\n",
       "    <tr>\n",
       "      <th>3</th>\n",
       "      <td>2532</td>\n",
       "      <td>Airport</td>\n",
       "      <td>1.0</td>\n",
       "      <td>Trip Completed</td>\n",
       "      <td>21</td>\n",
       "      <td>22.0</td>\n",
       "    </tr>\n",
       "    <tr>\n",
       "      <th>4</th>\n",
       "      <td>3112</td>\n",
       "      <td>City</td>\n",
       "      <td>1.0</td>\n",
       "      <td>Trip Completed</td>\n",
       "      <td>8</td>\n",
       "      <td>9.0</td>\n",
       "    </tr>\n",
       "    <tr>\n",
       "      <th>5</th>\n",
       "      <td>3879</td>\n",
       "      <td>Airport</td>\n",
       "      <td>1.0</td>\n",
       "      <td>Trip Completed</td>\n",
       "      <td>21</td>\n",
       "      <td>22.0</td>\n",
       "    </tr>\n",
       "    <tr>\n",
       "      <th>6</th>\n",
       "      <td>4270</td>\n",
       "      <td>Airport</td>\n",
       "      <td>1.0</td>\n",
       "      <td>Trip Completed</td>\n",
       "      <td>6</td>\n",
       "      <td>7.0</td>\n",
       "    </tr>\n",
       "    <tr>\n",
       "      <th>7</th>\n",
       "      <td>5510</td>\n",
       "      <td>Airport</td>\n",
       "      <td>1.0</td>\n",
       "      <td>Trip Completed</td>\n",
       "      <td>5</td>\n",
       "      <td>6.0</td>\n",
       "    </tr>\n",
       "    <tr>\n",
       "      <th>8</th>\n",
       "      <td>6248</td>\n",
       "      <td>City</td>\n",
       "      <td>1.0</td>\n",
       "      <td>Trip Completed</td>\n",
       "      <td>17</td>\n",
       "      <td>18.0</td>\n",
       "    </tr>\n",
       "    <tr>\n",
       "      <th>9</th>\n",
       "      <td>267</td>\n",
       "      <td>City</td>\n",
       "      <td>2.0</td>\n",
       "      <td>Trip Completed</td>\n",
       "      <td>6</td>\n",
       "      <td>7.0</td>\n",
       "    </tr>\n",
       "  </tbody>\n",
       "</table>\n",
       "</div>"
      ],
      "text/plain": [
       "   Request id Pickup point  Driver id          Status  Request Hours  \\\n",
       "0         619      Airport        1.0  Trip Completed             11   \n",
       "1         867      Airport        1.0  Trip Completed             17   \n",
       "2        1807         City        1.0  Trip Completed              9   \n",
       "3        2532      Airport        1.0  Trip Completed             21   \n",
       "4        3112         City        1.0  Trip Completed              8   \n",
       "5        3879      Airport        1.0  Trip Completed             21   \n",
       "6        4270      Airport        1.0  Trip Completed              6   \n",
       "7        5510      Airport        1.0  Trip Completed              5   \n",
       "8        6248         City        1.0  Trip Completed             17   \n",
       "9         267         City        2.0  Trip Completed              6   \n",
       "\n",
       "   Drop Hours  \n",
       "0        13.0  \n",
       "1        18.0  \n",
       "2         9.0  \n",
       "3        22.0  \n",
       "4         9.0  \n",
       "5        22.0  \n",
       "6         7.0  \n",
       "7         6.0  \n",
       "8        18.0  \n",
       "9         7.0  "
      ]
     },
     "execution_count": 14,
     "metadata": {},
     "output_type": "execute_result"
    }
   ],
   "source": [
    "# Again checking the table\n",
    "\n",
    "df.head(10)"
   ]
  },
  {
   "cell_type": "code",
   "execution_count": 15,
   "metadata": {
    "colab": {
     "base_uri": "https://localhost:8080/"
    },
    "executionInfo": {
     "elapsed": 619,
     "status": "ok",
     "timestamp": 1660314978298,
     "user": {
      "displayName": "Rameez Kasmani",
      "userId": "16224857449159942934"
     },
     "user_tz": -330
    },
    "id": "e6fC16rk8BJi",
    "outputId": "a8708f61-48ad-4c25-f50b-719d48e4f0ae"
   },
   "outputs": [
    {
     "data": {
      "text/plain": [
       "Request id          0\n",
       "Pickup point        0\n",
       "Driver id        2650\n",
       "Status              0\n",
       "Request Hours       0\n",
       "Drop Hours       3914\n",
       "dtype: int64"
      ]
     },
     "execution_count": 15,
     "metadata": {},
     "output_type": "execute_result"
    }
   ],
   "source": [
    "# Now checking the null values\n",
    "\n",
    "df.isnull().sum()"
   ]
  },
  {
   "cell_type": "code",
   "execution_count": 16,
   "metadata": {
    "colab": {
     "base_uri": "https://localhost:8080/"
    },
    "executionInfo": {
     "elapsed": 19,
     "status": "ok",
     "timestamp": 1660314978299,
     "user": {
      "displayName": "Rameez Kasmani",
      "userId": "16224857449159942934"
     },
     "user_tz": -330
    },
    "id": "26LvHOP19QVo",
    "outputId": "122c6ed9-5ac2-4780-e374-740160649514"
   },
   "outputs": [
    {
     "data": {
      "text/plain": [
       "Request id        0.000000\n",
       "Pickup point      0.000000\n",
       "Driver id        39.288362\n",
       "Status            0.000000\n",
       "Request Hours     0.000000\n",
       "Drop Hours       58.028169\n",
       "dtype: float64"
      ]
     },
     "execution_count": 16,
     "metadata": {},
     "output_type": "execute_result"
    }
   ],
   "source": [
    "# Now checking the percentage of null values\n",
    "\n",
    "df.isnull().sum()*100/df.shape[0] # 0 means you want value from 0"
   ]
  },
  {
   "cell_type": "code",
   "execution_count": 17,
   "metadata": {
    "colab": {
     "base_uri": "https://localhost:8080/",
     "height": 351
    },
    "executionInfo": {
     "elapsed": 1030,
     "status": "ok",
     "timestamp": 1660314979317,
     "user": {
      "displayName": "Rameez Kasmani",
      "userId": "16224857449159942934"
     },
     "user_tz": -330
    },
    "id": "U0rTXyv4Bv1q",
    "outputId": "53aed8e5-abad-43e6-d092-9210d8bf1dbc"
   },
   "outputs": [
    {
     "data": {
      "text/plain": [
       "<AxesSubplot:xlabel='Request Hours', ylabel='count'>"
      ]
     },
     "execution_count": 17,
     "metadata": {},
     "output_type": "execute_result"
    },
    {
     "data": {
      "image/png": "[encoded data removed]",
      "text/plain": [
       "<Figure size 720x360 with 1 Axes>"
      ]
     },
     "metadata": {
      "needs_background": "light"
     },
     "output_type": "display_data"
    }
   ],
   "source": [
    "# Now visualizing the Status of the cab with the help of request hours\n",
    "plt.figure(figsize=(10,5))\n",
    "sns.countplot(data=df,x='Request Hours',hue='Status')\n"
   ]
  },
  {
   "cell_type": "code",
   "execution_count": 18,
   "metadata": {
    "colab": {
     "base_uri": "https://localhost:8080/",
     "height": 334
    },
    "executionInfo": {
     "elapsed": 1122,
     "status": "ok",
     "timestamp": 1660314980432,
     "user": {
      "displayName": "Rameez Kasmani",
      "userId": "16224857449159942934"
     },
     "user_tz": -330
    },
    "id": "5gun1zGXC6p4",
    "outputId": "a0bbe0fa-3cb2-4248-c688-3374e0f7f38d"
   },
   "outputs": [
    {
     "data": {
      "image/png": "[encoded data removed]",
      "text/plain": [
       "<Figure size 720x360 with 1 Axes>"
      ]
     },
     "metadata": {
      "needs_background": "light"
     },
     "output_type": "display_data"
    }
   ],
   "source": [
    "# Now we are going to visualizing demand at the pickup point as per the time\n",
    "plt.figure(figsize=(10,5))\n",
    "sns.countplot(data=df,x='Request Hours',hue='Pickup point')\n",
    "plt.show()"
   ]
  },
  {
   "cell_type": "code",
   "execution_count": 19,
   "metadata": {
    "colab": {
     "base_uri": "https://localhost:8080/",
     "height": 52
    },
    "executionInfo": {
     "elapsed": 26,
     "status": "ok",
     "timestamp": 1660314980435,
     "user": {
      "displayName": "Rameez Kasmani",
      "userId": "16224857449159942934"
     },
     "user_tz": -330
    },
    "id": "eo4r1EMfAT_9",
    "outputId": "8e36ebb9-e541-49aa-bd00-59f161b61262"
   },
   "outputs": [
    {
     "data": {
      "text/plain": [
       "'\\nCategories of Time Slot will be as follow \\n\\nBefore 5am = Early Morning\\n\\nBetween 5am to 12pm = Morning\\n\\nBetween 12pm to 5pm = Afternoon\\n\\nBetween 5pm to 10pm = Evening\\n\\nAfter 10pm = Night\\n'"
      ]
     },
     "execution_count": 19,
     "metadata": {},
     "output_type": "execute_result"
    }
   ],
   "source": [
    "# Now we are creatig an another column neams as Time Slot\n",
    "\n",
    "df[\"Time Slot\"]=0\n",
    "\n",
    "'''\n",
    "Categories of Time Slot will be as follow \n",
    "\n",
    "Before 5am = Early Morning\n",
    "\n",
    "Between 5am to 12pm = Morning\n",
    "\n",
    "Between 12pm to 5pm = Afternoon\n",
    "\n",
    "Between 5pm to 10pm = Evening\n",
    "\n",
    "After 10pm = Night\n",
    "'''"
   ]
  },
  {
   "cell_type": "code",
   "execution_count": 20,
   "metadata": {
    "colab": {
     "base_uri": "https://localhost:8080/",
     "height": 206
    },
    "executionInfo": {
     "elapsed": 21,
     "status": "ok",
     "timestamp": 1660314980436,
     "user": {
      "displayName": "Rameez Kasmani",
      "userId": "16224857449159942934"
     },
     "user_tz": -330
    },
    "id": "xvKnqouXCPTD",
    "outputId": "4470e8c9-a94a-4f66-b317-39b03845cea4"
   },
   "outputs": [
    {
     "data": {
      "text/html": [
       "<div>\n",
       "<style scoped>\n",
       "    .dataframe tbody tr th:only-of-type {\n",
       "        vertical-align: middle;\n",
       "    }\n",
       "\n",
       "    .dataframe tbody tr th {\n",
       "        vertical-align: top;\n",
       "    }\n",
       "\n",
       "    .dataframe thead th {\n",
       "        text-align: right;\n",
       "    }\n",
       "</style>\n",
       "<table border=\"1\" class=\"dataframe\">\n",
       "  <thead>\n",
       "    <tr style=\"text-align: right;\">\n",
       "      <th></th>\n",
       "      <th>Request id</th>\n",
       "      <th>Pickup point</th>\n",
       "      <th>Driver id</th>\n",
       "      <th>Status</th>\n",
       "      <th>Request Hours</th>\n",
       "      <th>Drop Hours</th>\n",
       "      <th>Time Slot</th>\n",
       "    </tr>\n",
       "  </thead>\n",
       "  <tbody>\n",
       "    <tr>\n",
       "      <th>0</th>\n",
       "      <td>619</td>\n",
       "      <td>Airport</td>\n",
       "      <td>1.0</td>\n",
       "      <td>Trip Completed</td>\n",
       "      <td>11</td>\n",
       "      <td>13.0</td>\n",
       "      <td>0</td>\n",
       "    </tr>\n",
       "    <tr>\n",
       "      <th>1</th>\n",
       "      <td>867</td>\n",
       "      <td>Airport</td>\n",
       "      <td>1.0</td>\n",
       "      <td>Trip Completed</td>\n",
       "      <td>17</td>\n",
       "      <td>18.0</td>\n",
       "      <td>0</td>\n",
       "    </tr>\n",
       "    <tr>\n",
       "      <th>2</th>\n",
       "      <td>1807</td>\n",
       "      <td>City</td>\n",
       "      <td>1.0</td>\n",
       "      <td>Trip Completed</td>\n",
       "      <td>9</td>\n",
       "      <td>9.0</td>\n",
       "      <td>0</td>\n",
       "    </tr>\n",
       "    <tr>\n",
       "      <th>3</th>\n",
       "      <td>2532</td>\n",
       "      <td>Airport</td>\n",
       "      <td>1.0</td>\n",
       "      <td>Trip Completed</td>\n",
       "      <td>21</td>\n",
       "      <td>22.0</td>\n",
       "      <td>0</td>\n",
       "    </tr>\n",
       "    <tr>\n",
       "      <th>4</th>\n",
       "      <td>3112</td>\n",
       "      <td>City</td>\n",
       "      <td>1.0</td>\n",
       "      <td>Trip Completed</td>\n",
       "      <td>8</td>\n",
       "      <td>9.0</td>\n",
       "      <td>0</td>\n",
       "    </tr>\n",
       "  </tbody>\n",
       "</table>\n",
       "</div>"
      ],
      "text/plain": [
       "   Request id Pickup point  Driver id          Status  Request Hours  \\\n",
       "0         619      Airport        1.0  Trip Completed             11   \n",
       "1         867      Airport        1.0  Trip Completed             17   \n",
       "2        1807         City        1.0  Trip Completed              9   \n",
       "3        2532      Airport        1.0  Trip Completed             21   \n",
       "4        3112         City        1.0  Trip Completed              8   \n",
       "\n",
       "   Drop Hours  Time Slot  \n",
       "0        13.0          0  \n",
       "1        18.0          0  \n",
       "2         9.0          0  \n",
       "3        22.0          0  \n",
       "4         9.0          0  "
      ]
     },
     "execution_count": 20,
     "metadata": {},
     "output_type": "execute_result"
    }
   ],
   "source": [
    "# Checking the Time slot column is added or not\n",
    "\n",
    "df.head()"
   ]
  },
  {
   "cell_type": "code",
   "execution_count": 21,
   "metadata": {
    "executionInfo": {
     "elapsed": 3485,
     "status": "ok",
     "timestamp": 1660316349349,
     "user": {
      "displayName": "Rameez Kasmani",
      "userId": "16224857449159942934"
     },
     "user_tz": -330
    },
    "id": "c3G1sT9_O2GM"
   },
   "outputs": [],
   "source": [
    "# Now adding the Categories in Time Slot Column with the help of for loop and elif satement\n",
    "j=0\n",
    "for i in df[\"Request Hours\"]:\n",
    "  if df.iloc[j,4]<5:\n",
    "    df.iloc[j,6]=\"Early Morning\"\n",
    "  elif 5<=df.iloc[j,4]<10:\n",
    "    df.iloc[j,6]=\"Morning\"\n",
    "  elif 10<=df.iloc[j,4]<17:\n",
    "    df.iloc[j,6]=\"Afternoon\"\n",
    "  elif 17<=df.iloc[j,4]<22:\n",
    "    df.iloc[j,6]=\"Evening\"\n",
    "  else : df.iloc[j,6]=\"Night\"\n",
    "  j=j+1\n"
   ]
  },
  {
   "cell_type": "code",
   "execution_count": 22,
   "metadata": {
    "colab": {
     "base_uri": "https://localhost:8080/",
     "height": 206
    },
    "executionInfo": {
     "elapsed": 16,
     "status": "ok",
     "timestamp": 1660316349350,
     "user": {
      "displayName": "Rameez Kasmani",
      "userId": "16224857449159942934"
     },
     "user_tz": -330
    },
    "id": "HJx06NL6R0vq",
    "outputId": "82ba6eee-1e95-4d69-d1c5-417ee42a5610"
   },
   "outputs": [
    {
     "data": {
      "text/html": [
       "<div>\n",
       "<style scoped>\n",
       "    .dataframe tbody tr th:only-of-type {\n",
       "        vertical-align: middle;\n",
       "    }\n",
       "\n",
       "    .dataframe tbody tr th {\n",
       "        vertical-align: top;\n",
       "    }\n",
       "\n",
       "    .dataframe thead th {\n",
       "        text-align: right;\n",
       "    }\n",
       "</style>\n",
       "<table border=\"1\" class=\"dataframe\">\n",
       "  <thead>\n",
       "    <tr style=\"text-align: right;\">\n",
       "      <th></th>\n",
       "      <th>Request id</th>\n",
       "      <th>Pickup point</th>\n",
       "      <th>Driver id</th>\n",
       "      <th>Status</th>\n",
       "      <th>Request Hours</th>\n",
       "      <th>Drop Hours</th>\n",
       "      <th>Time Slot</th>\n",
       "    </tr>\n",
       "  </thead>\n",
       "  <tbody>\n",
       "    <tr>\n",
       "      <th>0</th>\n",
       "      <td>619</td>\n",
       "      <td>Airport</td>\n",
       "      <td>1.0</td>\n",
       "      <td>Trip Completed</td>\n",
       "      <td>11</td>\n",
       "      <td>13.0</td>\n",
       "      <td>Afternoon</td>\n",
       "    </tr>\n",
       "    <tr>\n",
       "      <th>1</th>\n",
       "      <td>867</td>\n",
       "      <td>Airport</td>\n",
       "      <td>1.0</td>\n",
       "      <td>Trip Completed</td>\n",
       "      <td>17</td>\n",
       "      <td>18.0</td>\n",
       "      <td>Evening</td>\n",
       "    </tr>\n",
       "    <tr>\n",
       "      <th>2</th>\n",
       "      <td>1807</td>\n",
       "      <td>City</td>\n",
       "      <td>1.0</td>\n",
       "      <td>Trip Completed</td>\n",
       "      <td>9</td>\n",
       "      <td>9.0</td>\n",
       "      <td>Morning</td>\n",
       "    </tr>\n",
       "    <tr>\n",
       "      <th>3</th>\n",
       "      <td>2532</td>\n",
       "      <td>Airport</td>\n",
       "      <td>1.0</td>\n",
       "      <td>Trip Completed</td>\n",
       "      <td>21</td>\n",
       "      <td>22.0</td>\n",
       "      <td>Evening</td>\n",
       "    </tr>\n",
       "    <tr>\n",
       "      <th>4</th>\n",
       "      <td>3112</td>\n",
       "      <td>City</td>\n",
       "      <td>1.0</td>\n",
       "      <td>Trip Completed</td>\n",
       "      <td>8</td>\n",
       "      <td>9.0</td>\n",
       "      <td>Morning</td>\n",
       "    </tr>\n",
       "  </tbody>\n",
       "</table>\n",
       "</div>"
      ],
      "text/plain": [
       "   Request id Pickup point  Driver id          Status  Request Hours  \\\n",
       "0         619      Airport        1.0  Trip Completed             11   \n",
       "1         867      Airport        1.0  Trip Completed             17   \n",
       "2        1807         City        1.0  Trip Completed              9   \n",
       "3        2532      Airport        1.0  Trip Completed             21   \n",
       "4        3112         City        1.0  Trip Completed              8   \n",
       "\n",
       "   Drop Hours  Time Slot  \n",
       "0        13.0  Afternoon  \n",
       "1        18.0    Evening  \n",
       "2         9.0    Morning  \n",
       "3        22.0    Evening  \n",
       "4         9.0    Morning  "
      ]
     },
     "execution_count": 22,
     "metadata": {},
     "output_type": "execute_result"
    }
   ],
   "source": [
    "# Now checking the table again\n",
    "df.head()"
   ]
  },
  {
   "cell_type": "code",
   "execution_count": 23,
   "metadata": {
    "colab": {
     "base_uri": "https://localhost:8080/"
    },
    "executionInfo": {
     "elapsed": 8,
     "status": "ok",
     "timestamp": 1660316352088,
     "user": {
      "displayName": "Rameez Kasmani",
      "userId": "16224857449159942934"
     },
     "user_tz": -330
    },
    "id": "4k5g5vpaR_P4",
    "outputId": "3bd84aed-c08d-471d-9204-3539fc5c52ce"
   },
   "outputs": [
    {
     "data": {
      "text/plain": [
       "Evening          2342\n",
       "Morning          2103\n",
       "Afternoon        1224\n",
       "Early Morning     578\n",
       "Night             498\n",
       "Name: Time Slot, dtype: int64"
      ]
     },
     "execution_count": 23,
     "metadata": {},
     "output_type": "execute_result"
    }
   ],
   "source": [
    "df[\"Time Slot\"].value_counts()"
   ]
  },
  {
   "cell_type": "code",
   "execution_count": 24,
   "metadata": {
    "colab": {
     "base_uri": "https://localhost:8080/",
     "height": 497
    },
    "executionInfo": {
     "elapsed": 764,
     "status": "ok",
     "timestamp": 1660316378664,
     "user": {
      "displayName": "Rameez Kasmani",
      "userId": "16224857449159942934"
     },
     "user_tz": -330
    },
    "id": "LmZp5rFFUaFh",
    "outputId": "958eaeb6-38d1-4116-d977-bce1cfb83850"
   },
   "outputs": [
    {
     "data": {
      "image/png": "[encoded data removed]",
      "text/plain": [
       "<Figure size 1080x576 with 1 Axes>"
      ]
     },
     "metadata": {
      "needs_background": "light"
     },
     "output_type": "display_data"
    }
   ],
   "source": [
    "# Now we will Visualize the Status of the cab as per the Time Slot\n",
    "plt.figure(figsize=(15,8))\n",
    "sns.countplot(data=df,x=\"Time Slot\",hue=\"Status\")\n",
    "plt.show()\n"
   ]
  },
  {
   "cell_type": "code",
   "execution_count": 25,
   "metadata": {
    "executionInfo": {
     "elapsed": 546,
     "status": "ok",
     "timestamp": 1660317675915,
     "user": {
      "displayName": "Rameez Kasmani",
      "userId": "16224857449159942934"
     },
     "user_tz": -330
    },
    "id": "fPKjlQQtmkad"
   },
   "outputs": [],
   "source": [
    "# Now we are going to check the Status of the cab of Morning time\n",
    "Morning_Time=df[df[\"Time Slot\"]==\"Morning\"]"
   ]
  },
  {
   "cell_type": "code",
   "execution_count": 26,
   "metadata": {
    "colab": {
     "base_uri": "https://localhost:8080/",
     "height": 623
    },
    "executionInfo": {
     "elapsed": 1001,
     "status": "ok",
     "timestamp": 1660317678853,
     "user": {
      "displayName": "Rameez Kasmani",
      "userId": "16224857449159942934"
     },
     "user_tz": -330
    },
    "id": "QqS0r01Itz0e",
    "outputId": "a115eb8e-3e52-40a0-95f0-e644c4b6f792"
   },
   "outputs": [
    {
     "data": {
      "text/plain": [
       "<AxesSubplot:xlabel='Pickup point', ylabel='count'>"
      ]
     },
     "execution_count": 26,
     "metadata": {},
     "output_type": "execute_result"
    },
    {
     "data": {
      "image/png": "[encoded data removed]",
      "text/plain": [
       "<Figure size 720x720 with 1 Axes>"
      ]
     },
     "metadata": {
      "needs_background": "light"
     },
     "output_type": "display_data"
    }
   ],
   "source": [
    "plt.figure(figsize=(10,10))\n",
    "sns.countplot(data=Morning_Time,x='Pickup point',hue=\"Status\")"
   ]
  },
  {
   "cell_type": "code",
   "execution_count": 27,
   "metadata": {
    "colab": {
     "base_uri": "https://localhost:8080/"
    },
    "executionInfo": {
     "elapsed": 446,
     "status": "ok",
     "timestamp": 1660316572801,
     "user": {
      "displayName": "Rameez Kasmani",
      "userId": "16224857449159942934"
     },
     "user_tz": -330
    },
    "id": "pZgbzouKt_KH",
    "outputId": "7aec450f-0f4b-4aad-f530-6091ed865f9b"
   },
   "outputs": [
    {
     "data": {
      "text/plain": [
       "820"
      ]
     },
     "execution_count": 27,
     "metadata": {},
     "output_type": "execute_result"
    }
   ],
   "source": [
    "# Now we will find how many cab were cancelled in the Morning Time as per pick up location\n",
    "\n",
    "# Pick up Location = City\n",
    "\n",
    "city_morning_cancelled=Morning_Time.loc[(Morning_Time[\"Pickup point\"]==\"City\") & (Morning_Time[\"Status\"]==\"Cancelled\")]\n",
    "\n",
    "len(city_morning_cancelled)\n"
   ]
  },
  {
   "cell_type": "code",
   "execution_count": 28,
   "metadata": {
    "colab": {
     "base_uri": "https://localhost:8080/"
    },
    "executionInfo": {
     "elapsed": 454,
     "status": "ok",
     "timestamp": 1660316607828,
     "user": {
      "displayName": "Rameez Kasmani",
      "userId": "16224857449159942934"
     },
     "user_tz": -330
    },
    "id": "o1FGQhv001v_",
    "outputId": "334b0272-d7ca-47ae-cb9e-48e6187947a6"
   },
   "outputs": [
    {
     "data": {
      "text/plain": [
       "23"
      ]
     },
     "execution_count": 28,
     "metadata": {},
     "output_type": "execute_result"
    }
   ],
   "source": [
    "# Pick up Location = Airport\n",
    "\n",
    "airport_morning_cancelled=Morning_Time.loc[(Morning_Time[\"Pickup point\"]==\"Airport\") & (Morning_Time[\"Status\"]==\"Cancelled\")]\n",
    "\n",
    "len(airport_morning_cancelled)"
   ]
  },
  {
   "cell_type": "code",
   "execution_count": 29,
   "metadata": {
    "colab": {
     "base_uri": "https://localhost:8080/"
    },
    "executionInfo": {
     "elapsed": 420,
     "status": "ok",
     "timestamp": 1660316806344,
     "user": {
      "displayName": "Rameez Kasmani",
      "userId": "16224857449159942934"
     },
     "user_tz": -330
    },
    "id": "nqilRuKI0tvL",
    "outputId": "d0608efb-ef5c-499d-cd9d-6993b48fcc77"
   },
   "outputs": [
    {
     "data": {
      "text/plain": [
       "426"
      ]
     },
     "execution_count": 29,
     "metadata": {},
     "output_type": "execute_result"
    }
   ],
   "source": [
    "# Now we will find out status of all cab in the morning slot\n",
    "\n",
    "# PICKUP = Airport\n",
    "\n",
    "status_morning_total=Morning_Time.loc[(Morning_Time[\"Pickup point\"]==\"Airport\")]\n",
    "\n",
    "len(status_morning_total)\n"
   ]
  },
  {
   "cell_type": "code",
   "execution_count": 30,
   "metadata": {
    "colab": {
     "base_uri": "https://localhost:8080/"
    },
    "executionInfo": {
     "elapsed": 450,
     "status": "ok",
     "timestamp": 1660316733775,
     "user": {
      "displayName": "Rameez Kasmani",
      "userId": "16224857449159942934"
     },
     "user_tz": -330
    },
    "id": "elJ5SYWtI5_-",
    "outputId": "0e142703-7053-47f5-fd20-cdba0a978073"
   },
   "outputs": [
    {
     "data": {
      "text/plain": [
       "23"
      ]
     },
     "execution_count": 30,
     "metadata": {},
     "output_type": "execute_result"
    }
   ],
   "source": [
    "Morning_Time[(Morning_Time[\"Pickup point\"]==\"Airport\") & (Morning_Time[\"Status\"]==\"Cancelled\")].shape[0]\n",
    "\n"
   ]
  },
  {
   "cell_type": "code",
   "execution_count": 31,
   "metadata": {
    "executionInfo": {
     "elapsed": 8,
     "status": "ok",
     "timestamp": 1660316737631,
     "user": {
      "displayName": "Rameez Kasmani",
      "userId": "16224857449159942934"
     },
     "user_tz": -330
    },
    "id": "m0l4q4SOKikd"
   },
   "outputs": [],
   "source": [
    "# Shape[0] means ir will give dimentions of row\n",
    "\n",
    "# Shape[1] means it will give you dimenstion of coloumns"
   ]
  },
  {
   "cell_type": "code",
   "execution_count": 32,
   "metadata": {
    "colab": {
     "base_uri": "https://localhost:8080/"
    },
    "executionInfo": {
     "elapsed": 503,
     "status": "ok",
     "timestamp": 1660317038882,
     "user": {
      "displayName": "Rameez Kasmani",
      "userId": "16224857449159942934"
     },
     "user_tz": -330
    },
    "id": "pLSMFDS8DAuE",
    "outputId": "3a69fa8b-5f26-4795-cf44-6a3bcd30e03c"
   },
   "outputs": [
    {
     "data": {
      "text/plain": [
       "21"
      ]
     },
     "execution_count": 32,
     "metadata": {},
     "output_type": "execute_result"
    }
   ],
   "source": [
    "Morning_Time[(Morning_Time[\"Pickup point\"]==\"Airport\")&(Morning_Time[\"Status\"]=='No Cars Available')].shape[0]"
   ]
  },
  {
   "cell_type": "markdown",
   "metadata": {
    "id": "10sFfQCEn26a"
   },
   "source": []
  },
  {
   "cell_type": "code",
   "execution_count": 33,
   "metadata": {
    "colab": {
     "base_uri": "https://localhost:8080/"
    },
    "executionInfo": {
     "elapsed": 420,
     "status": "ok",
     "timestamp": 1660317275845,
     "user": {
      "displayName": "Rameez Kasmani",
      "userId": "16224857449159942934"
     },
     "user_tz": -330
    },
    "id": "pqtmbcnwmem_",
    "outputId": "be3d6b03-73d0-4bda-cd09-6c068dd7c7b6"
   },
   "outputs": [
    {
     "data": {
      "text/plain": [
       "1677"
      ]
     },
     "execution_count": 33,
     "metadata": {},
     "output_type": "execute_result"
    }
   ],
   "source": [
    "# Now we will find out status of all cab in the morning slot\n",
    "\n",
    "# PICKUP = City\n",
    "\n",
    "status_morning_total=Morning_Time.loc[(Morning_Time[\"Pickup point\"]==\"City\")]\\\n",
    "\n",
    "len(status_morning_total)"
   ]
  },
  {
   "cell_type": "code",
   "execution_count": 34,
   "metadata": {
    "colab": {
     "base_uri": "https://localhost:8080/"
    },
    "executionInfo": {
     "elapsed": 646,
     "status": "ok",
     "timestamp": 1660317358525,
     "user": {
      "displayName": "Rameez Kasmani",
      "userId": "16224857449159942934"
     },
     "user_tz": -330
    },
    "id": "izRd6iiwnsEe",
    "outputId": "be0b2011-0455-4dbc-a225-df2d068c5763"
   },
   "outputs": [
    {
     "data": {
      "text/plain": [
       "472"
      ]
     },
     "execution_count": 34,
     "metadata": {},
     "output_type": "execute_result"
    }
   ],
   "source": [
    "Morning_Time[(Morning_Time[\"Pickup point\"]==\"City\")&(Morning_Time[\"Status\"]==\"Trip Completed\")].shape[0]"
   ]
  },
  {
   "cell_type": "code",
   "execution_count": 35,
   "metadata": {
    "colab": {
     "base_uri": "https://localhost:8080/"
    },
    "executionInfo": {
     "elapsed": 428,
     "status": "ok",
     "timestamp": 1660317373945,
     "user": {
      "displayName": "Rameez Kasmani",
      "userId": "16224857449159942934"
     },
     "user_tz": -330
    },
    "id": "Ujab7-T4n4Hi",
    "outputId": "340b5c36-b408-48c7-999d-c4f62be5ef53"
   },
   "outputs": [
    {
     "data": {
      "text/plain": [
       "820"
      ]
     },
     "execution_count": 35,
     "metadata": {},
     "output_type": "execute_result"
    }
   ],
   "source": [
    "Morning_Time[(Morning_Time[\"Pickup point\"]==\"City\")&(Morning_Time[\"Status\"]==\"Cancelled\")].shape[0]"
   ]
  },
  {
   "cell_type": "code",
   "execution_count": 36,
   "metadata": {
    "colab": {
     "base_uri": "https://localhost:8080/"
    },
    "executionInfo": {
     "elapsed": 8,
     "status": "ok",
     "timestamp": 1660317395344,
     "user": {
      "displayName": "Rameez Kasmani",
      "userId": "16224857449159942934"
     },
     "user_tz": -330
    },
    "id": "LRiNfSjqoJFM",
    "outputId": "110f4c95-106a-419d-a699-3d3ffae56fa1"
   },
   "outputs": [
    {
     "data": {
      "text/plain": [
       "385"
      ]
     },
     "execution_count": 36,
     "metadata": {},
     "output_type": "execute_result"
    }
   ],
   "source": [
    "Morning_Time[(Morning_Time[\"Pickup point\"]==\"City\")&(Morning_Time[\"Status\"]==\"No Cars Available\")].shape[0]"
   ]
  },
  {
   "cell_type": "code",
   "execution_count": 37,
   "metadata": {
    "colab": {
     "base_uri": "https://localhost:8080/",
     "height": 206
    },
    "executionInfo": {
     "elapsed": 17,
     "status": "ok",
     "timestamp": 1660317809818,
     "user": {
      "displayName": "Rameez Kasmani",
      "userId": "16224857449159942934"
     },
     "user_tz": -330
    },
    "id": "o7khF_jNoOUG",
    "outputId": "e3cd662b-a80a-4fb9-a547-de60f44cf505"
   },
   "outputs": [
    {
     "data": {
      "text/html": [
       "<div>\n",
       "<style scoped>\n",
       "    .dataframe tbody tr th:only-of-type {\n",
       "        vertical-align: middle;\n",
       "    }\n",
       "\n",
       "    .dataframe tbody tr th {\n",
       "        vertical-align: top;\n",
       "    }\n",
       "\n",
       "    .dataframe thead th {\n",
       "        text-align: right;\n",
       "    }\n",
       "</style>\n",
       "<table border=\"1\" class=\"dataframe\">\n",
       "  <thead>\n",
       "    <tr style=\"text-align: right;\">\n",
       "      <th></th>\n",
       "      <th>Request id</th>\n",
       "      <th>Pickup point</th>\n",
       "      <th>Driver id</th>\n",
       "      <th>Status</th>\n",
       "      <th>Request Hours</th>\n",
       "      <th>Drop Hours</th>\n",
       "      <th>Time Slot</th>\n",
       "    </tr>\n",
       "  </thead>\n",
       "  <tbody>\n",
       "    <tr>\n",
       "      <th>1</th>\n",
       "      <td>867</td>\n",
       "      <td>Airport</td>\n",
       "      <td>1.0</td>\n",
       "      <td>Trip Completed</td>\n",
       "      <td>17</td>\n",
       "      <td>18.0</td>\n",
       "      <td>Evening</td>\n",
       "    </tr>\n",
       "    <tr>\n",
       "      <th>3</th>\n",
       "      <td>2532</td>\n",
       "      <td>Airport</td>\n",
       "      <td>1.0</td>\n",
       "      <td>Trip Completed</td>\n",
       "      <td>21</td>\n",
       "      <td>22.0</td>\n",
       "      <td>Evening</td>\n",
       "    </tr>\n",
       "    <tr>\n",
       "      <th>5</th>\n",
       "      <td>3879</td>\n",
       "      <td>Airport</td>\n",
       "      <td>1.0</td>\n",
       "      <td>Trip Completed</td>\n",
       "      <td>21</td>\n",
       "      <td>22.0</td>\n",
       "      <td>Evening</td>\n",
       "    </tr>\n",
       "    <tr>\n",
       "      <th>8</th>\n",
       "      <td>6248</td>\n",
       "      <td>City</td>\n",
       "      <td>1.0</td>\n",
       "      <td>Trip Completed</td>\n",
       "      <td>17</td>\n",
       "      <td>18.0</td>\n",
       "      <td>Evening</td>\n",
       "    </tr>\n",
       "    <tr>\n",
       "      <th>15</th>\n",
       "      <td>3482</td>\n",
       "      <td>Airport</td>\n",
       "      <td>2.0</td>\n",
       "      <td>Trip Completed</td>\n",
       "      <td>17</td>\n",
       "      <td>18.0</td>\n",
       "      <td>Evening</td>\n",
       "    </tr>\n",
       "  </tbody>\n",
       "</table>\n",
       "</div>"
      ],
      "text/plain": [
       "    Request id Pickup point  Driver id          Status  Request Hours  \\\n",
       "1          867      Airport        1.0  Trip Completed             17   \n",
       "3         2532      Airport        1.0  Trip Completed             21   \n",
       "5         3879      Airport        1.0  Trip Completed             21   \n",
       "8         6248         City        1.0  Trip Completed             17   \n",
       "15        3482      Airport        2.0  Trip Completed             17   \n",
       "\n",
       "    Drop Hours Time Slot  \n",
       "1         18.0   Evening  \n",
       "3         22.0   Evening  \n",
       "5         22.0   Evening  \n",
       "8         18.0   Evening  \n",
       "15        18.0   Evening  "
      ]
     },
     "execution_count": 37,
     "metadata": {},
     "output_type": "execute_result"
    }
   ],
   "source": [
    "### EVENING TIME\n",
    "\n",
    "# Now we are going to check the Status of the cab of Evening time\n",
    "Evening_Time=df[df[\"Time Slot\"]==\"Evening\"]\n",
    "\n",
    "Evening_Time.head()"
   ]
  },
  {
   "cell_type": "code",
   "execution_count": 38,
   "metadata": {
    "colab": {
     "base_uri": "https://localhost:8080/",
     "height": 296
    },
    "executionInfo": {
     "elapsed": 14,
     "status": "ok",
     "timestamp": 1660317951389,
     "user": {
      "displayName": "Rameez Kasmani",
      "userId": "16224857449159942934"
     },
     "user_tz": -330
    },
    "id": "HcHM7AJypgG8",
    "outputId": "eceee23d-6cc0-4e3c-94a6-681939f373fa"
   },
   "outputs": [
    {
     "data": {
      "text/plain": [
       "<AxesSubplot:xlabel='Pickup point', ylabel='count'>"
      ]
     },
     "execution_count": 38,
     "metadata": {},
     "output_type": "execute_result"
    },
    {
     "data": {
      "image/png": "[encoded data removed]",
      "text/plain": [
       "<Figure size 432x288 with 1 Axes>"
      ]
     },
     "metadata": {
      "needs_background": "light"
     },
     "output_type": "display_data"
    }
   ],
   "source": [
    "# Now we will visualised it\n",
    "\n",
    "sns.countplot(data=Evening_Time,x=\"Pickup point\",hue=\"Status\")"
   ]
  },
  {
   "cell_type": "code",
   "execution_count": 39,
   "metadata": {
    "colab": {
     "base_uri": "https://localhost:8080/"
    },
    "executionInfo": {
     "elapsed": 665,
     "status": "ok",
     "timestamp": 1660318072037,
     "user": {
      "displayName": "Rameez Kasmani",
      "userId": "16224857449159942934"
     },
     "user_tz": -330
    },
    "id": "DUpIMWHmqGZs",
    "outputId": "a1295bd6-87a9-47cf-a04a-6f4dc092656c"
   },
   "outputs": [
    {
     "data": {
      "text/plain": [
       "No Cars Available    1392\n",
       "Trip Completed        784\n",
       "Cancelled             166\n",
       "Name: Status, dtype: int64"
      ]
     },
     "execution_count": 39,
     "metadata": {},
     "output_type": "execute_result"
    }
   ],
   "source": [
    "Evening_Time[\"Status\"].value_counts()"
   ]
  },
  {
   "cell_type": "code",
   "execution_count": 40,
   "metadata": {
    "colab": {
     "base_uri": "https://localhost:8080/"
    },
    "executionInfo": {
     "elapsed": 883,
     "status": "ok",
     "timestamp": 1660318569806,
     "user": {
      "displayName": "Rameez Kasmani",
      "userId": "16224857449159942934"
     },
     "user_tz": -330
    },
    "id": "tC23XnYAqtip",
    "outputId": "ea91b81d-c668-4abd-c397-4567a8d5ea70"
   },
   "outputs": [
    {
     "data": {
      "text/plain": [
       "542"
      ]
     },
     "execution_count": 40,
     "metadata": {},
     "output_type": "execute_result"
    }
   ],
   "source": [
    "# Now we will find out status of all cab in the Evening slot\n",
    "\n",
    "# PICKUP = City\n",
    "\n",
    "status_evening_total=Evening_Time.loc[(Evening_Time[\"Pickup point\"]==\"City\")]\n",
    "\n",
    "len(status_evening_total)\n",
    "\n",
    "\n",
    "#We Can do this way to\n",
    "\n",
    "#Evening_Time[(Evening_Time[\"Pickup point\"]==\"City\")].shape[0]"
   ]
  },
  {
   "cell_type": "code",
   "execution_count": 41,
   "metadata": {
    "colab": {
     "base_uri": "https://localhost:8080/"
    },
    "executionInfo": {
     "elapsed": 9,
     "status": "ok",
     "timestamp": 1660318630721,
     "user": {
      "displayName": "Rameez Kasmani",
      "userId": "16224857449159942934"
     },
     "user_tz": -330
    },
    "id": "TsEjQZjYrafd",
    "outputId": "e658d47d-3eea-4ca3-961c-25d34a105d4c"
   },
   "outputs": [
    {
     "data": {
      "text/plain": [
       "411"
      ]
     },
     "execution_count": 41,
     "metadata": {},
     "output_type": "execute_result"
    }
   ],
   "source": [
    "Evening_Time[(Evening_Time[\"Pickup point\"]==\"City\")&(Evening_Time[\"Status\"]==\"Trip Completed\")].shape[0]"
   ]
  },
  {
   "cell_type": "code",
   "execution_count": 42,
   "metadata": {
    "colab": {
     "base_uri": "https://localhost:8080/"
    },
    "executionInfo": {
     "elapsed": 488,
     "status": "ok",
     "timestamp": 1660318669507,
     "user": {
      "displayName": "Rameez Kasmani",
      "userId": "16224857449159942934"
     },
     "user_tz": -330
    },
    "id": "UvkNarlTs7Wo",
    "outputId": "a8e20eec-8dc8-436d-c3e1-d0a653d3cd3d"
   },
   "outputs": [
    {
     "data": {
      "text/plain": [
       "60"
      ]
     },
     "execution_count": 42,
     "metadata": {},
     "output_type": "execute_result"
    }
   ],
   "source": [
    "Evening_Time[(Evening_Time[\"Pickup point\"]==\"City\")&(Evening_Time[\"Status\"]==\"Cancelled\")].shape[0]"
   ]
  },
  {
   "cell_type": "code",
   "execution_count": 43,
   "metadata": {
    "colab": {
     "base_uri": "https://localhost:8080/"
    },
    "executionInfo": {
     "elapsed": 388,
     "status": "ok",
     "timestamp": 1660318692744,
     "user": {
      "displayName": "Rameez Kasmani",
      "userId": "16224857449159942934"
     },
     "user_tz": -330
    },
    "id": "9UocaO16tFG7",
    "outputId": "cf6cab2f-f082-4e06-f9d8-3180cef980e2"
   },
   "outputs": [
    {
     "data": {
      "text/plain": [
       "71"
      ]
     },
     "execution_count": 43,
     "metadata": {},
     "output_type": "execute_result"
    }
   ],
   "source": [
    "Evening_Time[(Evening_Time[\"Pickup point\"]==\"City\")&(Evening_Time[\"Status\"]==\"No Cars Available\")].shape[0]"
   ]
  },
  {
   "cell_type": "code",
   "execution_count": 44,
   "metadata": {
    "colab": {
     "base_uri": "https://localhost:8080/"
    },
    "executionInfo": {
     "elapsed": 406,
     "status": "ok",
     "timestamp": 1660318763705,
     "user": {
      "displayName": "Rameez Kasmani",
      "userId": "16224857449159942934"
     },
     "user_tz": -330
    },
    "id": "AjE_yEAatK7x",
    "outputId": "32bff1ca-d9fd-4ed2-b38f-038c32589991"
   },
   "outputs": [
    {
     "data": {
      "text/plain": [
       "1800"
      ]
     },
     "execution_count": 44,
     "metadata": {},
     "output_type": "execute_result"
    }
   ],
   "source": [
    "# Now we will find out status of all cab in the Evening slot\n",
    "\n",
    "# PICKUP = City\n",
    "\n",
    "status_evening_total=Evening_Time.loc[(Evening_Time[\"Pickup point\"]==\"Airport\")]\n",
    "\n",
    "len(status_evening_total)\n",
    "\n",
    "\n",
    "#We Can do this way to\n",
    "\n",
    "#Evening_Time[(Evening_Time[\"Pickup point\"]==\"Airport\")].shape[0]"
   ]
  },
  {
   "cell_type": "code",
   "execution_count": 45,
   "metadata": {
    "colab": {
     "base_uri": "https://localhost:8080/"
    },
    "executionInfo": {
     "elapsed": 464,
     "status": "ok",
     "timestamp": 1660318785257,
     "user": {
      "displayName": "Rameez Kasmani",
      "userId": "16224857449159942934"
     },
     "user_tz": -330
    },
    "id": "M51NDaY4tcTS",
    "outputId": "b45313fa-d15d-4a35-8620-4f00d4b4c73d"
   },
   "outputs": [
    {
     "data": {
      "text/plain": [
       "373"
      ]
     },
     "execution_count": 45,
     "metadata": {},
     "output_type": "execute_result"
    }
   ],
   "source": [
    "Evening_Time[(Evening_Time[\"Pickup point\"]==\"Airport\")&(Evening_Time[\"Status\"]==\"Trip Completed\")].shape[0]"
   ]
  },
  {
   "cell_type": "code",
   "execution_count": 46,
   "metadata": {
    "colab": {
     "base_uri": "https://localhost:8080/"
    },
    "executionInfo": {
     "elapsed": 446,
     "status": "ok",
     "timestamp": 1660318812284,
     "user": {
      "displayName": "Rameez Kasmani",
      "userId": "16224857449159942934"
     },
     "user_tz": -330
    },
    "id": "1dY9_Cu0thiL",
    "outputId": "0c5f261f-b9ea-40a1-bba4-3f7fb8703315"
   },
   "outputs": [
    {
     "data": {
      "text/plain": [
       "106"
      ]
     },
     "execution_count": 46,
     "metadata": {},
     "output_type": "execute_result"
    }
   ],
   "source": [
    "Evening_Time[(Evening_Time[\"Pickup point\"]==\"Airport\")&(Evening_Time[\"Status\"]==\"Cancelled\")].shape[0]"
   ]
  },
  {
   "cell_type": "code",
   "execution_count": 47,
   "metadata": {
    "colab": {
     "base_uri": "https://localhost:8080/"
    },
    "executionInfo": {
     "elapsed": 460,
     "status": "ok",
     "timestamp": 1660318842824,
     "user": {
      "displayName": "Rameez Kasmani",
      "userId": "16224857449159942934"
     },
     "user_tz": -330
    },
    "id": "CS7dKvXutoQk",
    "outputId": "8815faba-e16b-4989-ff06-fa3ab35e7ea3"
   },
   "outputs": [
    {
     "data": {
      "text/plain": [
       "1321"
      ]
     },
     "execution_count": 47,
     "metadata": {},
     "output_type": "execute_result"
    }
   ],
   "source": [
    "Evening_Time[(Evening_Time[\"Pickup point\"]==\"Airport\")&(Evening_Time[\"Status\"]==\"No Cars Available\")].shape[0]"
   ]
  },
  {
   "cell_type": "code",
   "execution_count": 48,
   "metadata": {
    "executionInfo": {
     "elapsed": 521,
     "status": "ok",
     "timestamp": 1660320563384,
     "user": {
      "displayName": "Rameez Kasmani",
      "userId": "16224857449159942934"
     },
     "user_tz": -330
    },
    "id": "RJkYEtkZtvk-"
   },
   "outputs": [],
   "source": [
    "# Now its time for Pie Chart\n",
    "\n",
    "\n",
    "Morning_Time_City=df[(df[\"Pickup point\"]==\"City\")&(df[\"Time Slot\"]==\"Morning\")]"
   ]
  },
  {
   "cell_type": "code",
   "execution_count": 49,
   "metadata": {
    "executionInfo": {
     "elapsed": 15,
     "status": "ok",
     "timestamp": 1660320564106,
     "user": {
      "displayName": "Rameez Kasmani",
      "userId": "16224857449159942934"
     },
     "user_tz": -330
    },
    "id": "Xhe42js_zfvl"
   },
   "outputs": [],
   "source": [
    "Morning_Time_City_Count=pd.DataFrame(Morning_Time_City[\"Status\"].value_counts())"
   ]
  },
  {
   "cell_type": "code",
   "execution_count": 50,
   "metadata": {
    "colab": {
     "base_uri": "https://localhost:8080/",
     "height": 143
    },
    "executionInfo": {
     "elapsed": 15,
     "status": "ok",
     "timestamp": 1660320564108,
     "user": {
      "displayName": "Rameez Kasmani",
      "userId": "16224857449159942934"
     },
     "user_tz": -330
    },
    "id": "TxuvJ93A0ETb",
    "outputId": "158d6f7f-11ee-436e-df62-c49228f2253c"
   },
   "outputs": [
    {
     "data": {
      "text/html": [
       "<div>\n",
       "<style scoped>\n",
       "    .dataframe tbody tr th:only-of-type {\n",
       "        vertical-align: middle;\n",
       "    }\n",
       "\n",
       "    .dataframe tbody tr th {\n",
       "        vertical-align: top;\n",
       "    }\n",
       "\n",
       "    .dataframe thead th {\n",
       "        text-align: right;\n",
       "    }\n",
       "</style>\n",
       "<table border=\"1\" class=\"dataframe\">\n",
       "  <thead>\n",
       "    <tr style=\"text-align: right;\">\n",
       "      <th></th>\n",
       "      <th>Status</th>\n",
       "    </tr>\n",
       "  </thead>\n",
       "  <tbody>\n",
       "    <tr>\n",
       "      <th>Cancelled</th>\n",
       "      <td>820</td>\n",
       "    </tr>\n",
       "    <tr>\n",
       "      <th>Trip Completed</th>\n",
       "      <td>472</td>\n",
       "    </tr>\n",
       "    <tr>\n",
       "      <th>No Cars Available</th>\n",
       "      <td>385</td>\n",
       "    </tr>\n",
       "  </tbody>\n",
       "</table>\n",
       "</div>"
      ],
      "text/plain": [
       "                   Status\n",
       "Cancelled             820\n",
       "Trip Completed        472\n",
       "No Cars Available     385"
      ]
     },
     "execution_count": 50,
     "metadata": {},
     "output_type": "execute_result"
    }
   ],
   "source": [
    "Morning_Time_City_Count"
   ]
  },
  {
   "cell_type": "code",
   "execution_count": 51,
   "metadata": {
    "colab": {
     "base_uri": "https://localhost:8080/",
     "height": 248
    },
    "executionInfo": {
     "elapsed": 471,
     "status": "ok",
     "timestamp": 1660320616708,
     "user": {
      "displayName": "Rameez Kasmani",
      "userId": "16224857449159942934"
     },
     "user_tz": -330
    },
    "id": "NM-fNIHg0G5L",
    "outputId": "ed17db47-b5de-4e06-ea1c-f72953068b19"
   },
   "outputs": [
    {
     "data": {
      "image/png": "[encoded data removed]",
      "text/plain": [
       "<Figure size 432x288 with 1 Axes>"
      ]
     },
     "metadata": {},
     "output_type": "display_data"
    }
   ],
   "source": [
    "fig,ax=plt.subplots()\n",
    "ax.pie(Morning_Time_City_Count[\"Status\"].values,labels=Morning_Time_City_Count[\"Status\"].index,\n",
    "      autopct=\"%.2f%%\",startangle=90)\n",
    "plt.show()"
   ]
  },
  {
   "cell_type": "code",
   "execution_count": 52,
   "metadata": {
    "executionInfo": {
     "elapsed": 489,
     "status": "ok",
     "timestamp": 1660320707427,
     "user": {
      "displayName": "Rameez Kasmani",
      "userId": "16224857449159942934"
     },
     "user_tz": -330
    },
    "id": "53yViByI0gys"
   },
   "outputs": [],
   "source": [
    "Evening_Time_City=df[(df[\"Pickup point\"]==\"Airport\")&(df[\"Time Slot\"]==\"Evening\")]"
   ]
  },
  {
   "cell_type": "code",
   "execution_count": 53,
   "metadata": {
    "executionInfo": {
     "elapsed": 502,
     "status": "ok",
     "timestamp": 1660320750254,
     "user": {
      "displayName": "Rameez Kasmani",
      "userId": "16224857449159942934"
     },
     "user_tz": -330
    },
    "id": "Y4npfipR026K"
   },
   "outputs": [],
   "source": [
    "Evening_Time_City_Count=pd.DataFrame(Evening_Time_City[\"Status\"].value_counts())"
   ]
  },
  {
   "cell_type": "code",
   "execution_count": 54,
   "metadata": {
    "colab": {
     "base_uri": "https://localhost:8080/",
     "height": 143
    },
    "executionInfo": {
     "elapsed": 414,
     "status": "ok",
     "timestamp": 1660320770631,
     "user": {
      "displayName": "Rameez Kasmani",
      "userId": "16224857449159942934"
     },
     "user_tz": -330
    },
    "id": "RGAlpo7a1BYK",
    "outputId": "0490f874-3004-48a7-9c41-c22f5a21ee46"
   },
   "outputs": [
    {
     "data": {
      "text/html": [
       "<div>\n",
       "<style scoped>\n",
       "    .dataframe tbody tr th:only-of-type {\n",
       "        vertical-align: middle;\n",
       "    }\n",
       "\n",
       "    .dataframe tbody tr th {\n",
       "        vertical-align: top;\n",
       "    }\n",
       "\n",
       "    .dataframe thead th {\n",
       "        text-align: right;\n",
       "    }\n",
       "</style>\n",
       "<table border=\"1\" class=\"dataframe\">\n",
       "  <thead>\n",
       "    <tr style=\"text-align: right;\">\n",
       "      <th></th>\n",
       "      <th>Status</th>\n",
       "    </tr>\n",
       "  </thead>\n",
       "  <tbody>\n",
       "    <tr>\n",
       "      <th>No Cars Available</th>\n",
       "      <td>1321</td>\n",
       "    </tr>\n",
       "    <tr>\n",
       "      <th>Trip Completed</th>\n",
       "      <td>373</td>\n",
       "    </tr>\n",
       "    <tr>\n",
       "      <th>Cancelled</th>\n",
       "      <td>106</td>\n",
       "    </tr>\n",
       "  </tbody>\n",
       "</table>\n",
       "</div>"
      ],
      "text/plain": [
       "                   Status\n",
       "No Cars Available    1321\n",
       "Trip Completed        373\n",
       "Cancelled             106"
      ]
     },
     "execution_count": 54,
     "metadata": {},
     "output_type": "execute_result"
    }
   ],
   "source": [
    "Evening_Time_City_Count"
   ]
  },
  {
   "cell_type": "code",
   "execution_count": 55,
   "metadata": {
    "colab": {
     "base_uri": "https://localhost:8080/",
     "height": 248
    },
    "executionInfo": {
     "elapsed": 532,
     "status": "ok",
     "timestamp": 1660320817243,
     "user": {
      "displayName": "Rameez Kasmani",
      "userId": "16224857449159942934"
     },
     "user_tz": -330
    },
    "id": "ykTISCDQ1GYC",
    "outputId": "652a3239-e692-4ce1-8f74-7a92e9c36b4c"
   },
   "outputs": [
    {
     "data": {
      "image/png": "[encoded data removed]",
      "text/plain": [
       "<Figure size 432x288 with 1 Axes>"
      ]
     },
     "metadata": {},
     "output_type": "display_data"
    }
   ],
   "source": [
    "fig,ax=plt.subplots()\n",
    "ax.pie(Evening_Time_City_Count[\"Status\"].values,labels=Evening_Time_City_Count[\"Status\"].index,\n",
    "      autopct=\"%.2f%%\",startangle=90)\n",
    "plt.show()"
   ]
  },
  {
   "cell_type": "code",
   "execution_count": 56,
   "metadata": {
    "id": "5IqXtQ6P1XoK"
   },
   "outputs": [
    {
     "data": {
      "text/plain": [
       "'Key Take Aways\\n1) We understood the dataset with the number of user requests were done and the number of columns(6745,6) \\nalong with other facts such as number/percentage of NaNs in each columns and format of dataTime in the request and drop timestamp columns.\\n\\n2) We standardised format of dataTime in the request and drop timestamp columns.\\n\\n3) Figured a logical reason as to why the NaNs in Driver_id and drop timestamp columns should be ignored.\\n\\n4) Extracted the day number and hour from the request timestamp column to perform a deeper analysis.\\n\\n5) Between hours 5AM-9AM, the load on cabs are high with almost equal amount of trips getting completed and cancelled.\\n\\n6) Between hours 5PM-9PM, the load on cabs are significantly high. Hence, there is mismatch between cab demand and availabilty.\\nHence, we see more of \"No cars Available Status\".\\n\\n7) Between hours 5AM-9AM, the users from city is significantly high.\\n\\n8) Between hours 5PM-9PM, the users from Airport is significantly high.\\n\\n9) The \"Morning_Rush\" and \"Evening_Rush\" are the hours with maximum load(i.e more number of users requesting cab services).\\n\\n10) We also saw the load during \"Morning_rush\" and \"Evening_Rush\" from both pick-up points \"City\" and \"Airport\".\\n\\n11) During the evening rush hour, we saw a significant number of No CARS AVAILABLE status for the trip bookings from \"Airport\".'"
      ]
     },
     "execution_count": 56,
     "metadata": {},
     "output_type": "execute_result"
    }
   ],
   "source": [
    "'''Key Take Aways\n",
    "1) We understood the dataset with the number of user requests were done and the number of columns(6745,6) \n",
    "along with other facts such as number/percentage of NaNs in each columns and format of dataTime in the request and drop timestamp columns.\n",
    "\n",
    "2) We standardised format of dataTime in the request and drop timestamp columns.\n",
    "\n",
    "3) Figured a logical reason as to why the NaNs in Driver_id and drop timestamp columns should be ignored.\n",
    "\n",
    "4) Extracted the day number and hour from the request timestamp column to perform a deeper analysis.\n",
    "\n",
    "5) Between hours 5AM-9AM, the load on cabs are high with almost equal amount of trips getting completed and cancelled.\n",
    "\n",
    "6) Between hours 5PM-9PM, the load on cabs are significantly high. Hence, there is mismatch between cab demand and availabilty.\n",
    "Hence, we see more of \"No cars Available Status\".\n",
    "\n",
    "7) Between hours 5AM-9AM, the users from city is significantly high.\n",
    "\n",
    "8) Between hours 5PM-9PM, the users from Airport is significantly high.\n",
    "\n",
    "9) The \"Morning_Rush\" and \"Evening_Rush\" are the hours with maximum load(i.e more number of users requesting cab services).\n",
    "\n",
    "10) We also saw the load during \"Morning_rush\" and \"Evening_Rush\" from both pick-up points \"City\" and \"Airport\".\n",
    "\n",
    "11) During the evening rush hour, we saw a significant number of No CARS AVAILABLE status for the trip bookings from \"Airport\".'''"
   ]
  },
  {
   "cell_type": "code",
   "execution_count": null,
   "metadata": {
    "id": "3aF7BazG1RtI"
   },
   "outputs": [],
   "source": []
  }
 ],
 "metadata": {
  "colab": {
   "authorship_tag": "ABX9TyMCNIXGJ/S/ErgkXHwHCA5Z",
   "collapsed_sections": [],
   "mount_file_id": "1qIGpVTyIVjaAD8K1wOhekBpWNsko1Smc",
   "name": "Uber Dataset (EDA).ipynb",
   "provenance": []
  },
  "kernelspec": {
   "display_name": "Python 3 (ipykernel)",
   "language": "python",
   "name": "python3"
  },
  "language_info": {
   "codemirror_mode": {
    "name": "ipython",
    "version": 3
   },
   "file_extension": ".py",
   "mimetype": "text/x-python",
   "name": "python",
   "nbconvert_exporter": "python",
   "pygments_lexer": "ipython3",
   "version": "3.9.7"
  }
 },
 "nbformat": 4,
 "nbformat_minor": 1
}
